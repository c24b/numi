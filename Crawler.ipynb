{
 "cells": [
  {
   "cell_type": "markdown",
   "metadata": {},
   "source": [
    "\n",
    "# Cours 5\n",
    "\n",
    "## Introductions au techniques de crawl en Python\n",
    "\n",
    "### Principes du crawl\n",
    "\n",
    "Le crawl est une technique qui consiste à naviguer sur ou plusieurs site pour en récupérer les information \n",
    "C'est la technique qu'emploient les moteurs de recherche pour créer une base de données qui contient les références\n",
    "au site et les mots clés qui correspondent à la recherche.\n",
    "La base du crawl est de stocker les liens présents dans une page, de les télécharger au fur et à mesure et de stocker les informations intéressantes.\n",
    "Le crawl permet donc de reconstituer une base de données en collectant les informations html et en les formattant pour les insérer dans une base\n",
    "\n",
    "\n",
    "Un crawler simple peut se coder simplement en python en écrivant un programme composé de ces simples instructions:\n",
    "A partir d'une url de départ:\n",
    "        * télécharger la page\n",
    "        * extraire toutes les urls\n",
    "        * les stocker dans une liste\n",
    "        * extraire les autres informations utiles \n",
    "        * les insérer dans un fichier\n",
    "\n",
    "Pour chaque url de la liste de départ:\n",
    "* refaire le travail\n",
    "et ainsi de suite jusqu'à ce qu'il n'y ait plus d'url\n",
    "        \n",
    "### Exemple d'implémentation: un fichier crawl.py\n",
    "Construisons ensemble notre premier crawler appelé crawl.py\n",
    "\n",
    "Definissons d'abord en haut du fichier le type de code:"
   ]
  },
  {
   "cell_type": "code",
   "execution_count": null,
   "metadata": {
    "collapsed": true
   },
   "outputs": [],
   "source": [
    "#!/usr/bin/python "
   ]
  },
  {
   "cell_type": "markdown",
   "metadata": {},
   "source": [
    "Définissons ensuite l'encodage pour prendre en compte les accents"
   ]
  },
  {
   "cell_type": "code",
   "execution_count": null,
   "metadata": {
    "collapsed": true
   },
   "outputs": [],
   "source": [
    "# coding: utf-8"
   ]
  },
  {
   "cell_type": "markdown",
   "metadata": {},
   "source": [
    "On importe au debut du script \n",
    "tous les modules complémentaire \n",
    "dont on va avoir besoin et qui sont importer grace à l'instruction import\n",
    "\n",
    "* un module de téléchargement \n"
   ]
  },
  {
   "cell_type": "code",
   "execution_count": 1,
   "metadata": {
    "collapsed": true
   },
   "outputs": [],
   "source": [
    "import requests"
   ]
  },
  {
   "cell_type": "markdown",
   "metadata": {},
   "source": [
    "* un module qui permet de parcourir le html"
   ]
  },
  {
   "cell_type": "code",
   "execution_count": null,
   "metadata": {
    "collapsed": true
   },
   "outputs": [],
   "source": [
    "from bs4 import BeautifulSoup"
   ]
  },
  {
   "cell_type": "markdown",
   "metadata": {},
   "source": [
    "Pour BeautifulSoup, on spécifie le type parser que nous allons utiliser\n"
   ]
  },
  {
   "cell_type": "code",
   "execution_count": null,
   "metadata": {
    "collapsed": true
   },
   "outputs": [],
   "source": [
    "BeautifulSoup(\"html.parser\")"
   ]
  },
  {
   "cell_type": "markdown",
   "metadata": {
    "collapsed": true
   },
   "source": [
    "On va ensuite écrire les fonctions dont on a besoin:\n",
    "    * une fonction pour télécharger les urls ``download``\n",
    "    \n",
    "    * une fonction pour écrire dans un fichier ``write_csv``\n",
    "    \n",
    "    * une fonction pour extraire les liens ``extract_links``\n",
    "    \n",
    "    * une fonction pour extraire les données intéressantes ``extract_data``\n",
    "    "
   ]
  },
  {
   "cell_type": "code",
   "execution_count": 2,
   "metadata": {
    "collapsed": false
   },
   "outputs": [
    {
     "ename": "SyntaxError",
     "evalue": "invalid syntax (<ipython-input-2-67f9c6acf09a>, line 22)",
     "output_type": "error",
     "traceback": [
      "\u001b[1;36m  File \u001b[1;32m\"<ipython-input-2-67f9c6acf09a>\"\u001b[1;36m, line \u001b[1;32m22\u001b[0m\n\u001b[1;33m    if\u001b[0m\n\u001b[1;37m      ^\u001b[0m\n\u001b[1;31mSyntaxError\u001b[0m\u001b[1;31m:\u001b[0m invalid syntax\n"
     ]
    }
   ],
   "source": [
    "\n",
    "def download(url):\n",
    "    #on appelle le module requests qui permet de télécharger la page\n",
    "    #et on stocke le résultat du téléchargement\n",
    "    #dans une variable qu'on appelle ici reponse\n",
    "    reponse = requests.get(url)\n",
    "    #response est produit par le module requests\n",
    "    #il a donc des valeurs spécifiques qui sont documentés sur la page du module\n",
    "    #tel que le code de status de la page cf[[]]\n",
    "    if\n",
    "    \n",
    "\n",
    "\n",
    "url_de_depart=\"http://www.lemonde.fr/\"\n",
    "\n"
   ]
  },
  {
   "cell_type": "code",
   "execution_count": null,
   "metadata": {
    "collapsed": true
   },
   "outputs": [],
   "source": []
  }
 ],
 "metadata": {
  "kernelspec": {
   "display_name": "Python 2",
   "language": "python",
   "name": "python2"
  },
  "language_info": {
   "codemirror_mode": {
    "name": "ipython",
    "version": 2
   },
   "file_extension": ".py",
   "mimetype": "text/x-python",
   "name": "python",
   "nbconvert_exporter": "python",
   "pygments_lexer": "ipython2",
   "version": "2.7.6"
  }
 },
 "nbformat": 4,
 "nbformat_minor": 0
}
